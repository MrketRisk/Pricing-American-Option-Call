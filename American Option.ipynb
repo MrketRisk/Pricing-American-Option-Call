{
 "cells": [
  {
   "cell_type": "code",
   "execution_count": 3,
   "id": "6d854b9d",
   "metadata": {},
   "outputs": [],
   "source": [
    "# Import Numpy, Pandas and norm from Scipy stats\n",
    "\n",
    "import numpy as np\n",
    "import pandas as pd\n",
    "from scipy.stats import norm\n",
    "import yfinance as yf"
   ]
  },
  {
   "cell_type": "code",
   "execution_count": 78,
   "id": "3a93c40f",
   "metadata": {},
   "outputs": [],
   "source": [
    "# American Option Function for Call option using Least Squares Method by Longstaff Schwartz\n",
    "\n",
    "def MCS_A(S0=100, rf=0.05, T=1, K=100, vol=0.2, steps=252, sims=10000): \n",
    "    # Steps are equal to days in a time period to expiry. It can be smaller or larger \n",
    "    # dt in this case is 1 day. This is the time interval for each steps in the simulation\n",
    "    dt = T/steps \n",
    "    # Creating a zero filled array of size = sims x steps + 1. This will be simulation of price paths taken\n",
    "    S = np.zeros((sims, steps + 1)) \n",
    "    # The first price for each path is S0\n",
    "    S[:,0] = S0\n",
    "    # All the steps for all the paths can now be filled using a 'for' loop implementing GBM\n",
    "    for i in range (steps):\n",
    "        # phi consists of an 1D array of standard normal random numbers of length sims\n",
    "        phi = np.random.randn(sims)\n",
    "        # using GBM formula, create path wise prices. phi is the proxy for Z\n",
    "        S[:, i+1] = S[:, i ] * np.exp((rf - 0.5 * vol * vol) * dt + vol * phi * np.sqrt(dt))\n",
    "    S = pd.DataFrame(S)\n",
    "    # Payoff Matrix is the intrinsic value of the option at every step for every path\n",
    "    A = np.zeros((sims, steps + 1))\n",
    "    A = pd.DataFrame(A)\n",
    "    \n",
    "    A.iloc[:,steps] = np.maximum(S.iloc[:,steps] - K,0)\n",
    "    for i in range(steps - 1,0,-1):\n",
    "        A.iloc[:,i] = np.maximum(S.iloc[:,i] - K,0)\n",
    "    A = pd.DataFrame(A)\n",
    "    \n",
    "    # Valuation Matrix using backward induction\n",
    "    C = np.zeros((sims, steps + 1))\n",
    "    C = pd.DataFrame(C)\n",
    "    # At expiry, Value of Option is the payoff\n",
    "    C.iloc[:,steps] = A.iloc[:,steps]\n",
    "    # For every other steps, Value shall be maximum of 'Continuation Value' and 'Option Payoff'\n",
    "    # Continuation Value shall be the discounted value of option in the next step\n",
    "    # Discount Factor\n",
    "    dfactor = np.exp(-rf * dt)\n",
    "    \n",
    "    for i in range(steps - 1,0,-1):\n",
    "        # First we will assign Value as the Continuation Factor\n",
    "        C.iloc[:,i] = C.iloc[:,i + 1] * dfactor\n",
    "        originalC = pd.DataFrame(C.iloc[:,i].copy())\n",
    "        # The conditional expection of continuation will be determined using Least Squares (LS)\n",
    "        # For LS, only those paths that contain a positive payoffs will be chosen\n",
    "        positivePayoffPaths = A.loc[A[i]>0,].index\n",
    "        # X values are Asset Prices for the paths\n",
    "        xVal = S.loc[positivePayoffPaths,i]\n",
    "        # Y values are Continuation Value for the paths\n",
    "        yVal = C.loc[positivePayoffPaths,i]\n",
    "        # Polynomial fitting with order of 2 as per Longstaff Schwartz\n",
    "        reg = np.polyfit(xVal,yVal,2)\n",
    "        # Recompute Continuation Value using the regression function\n",
    "        revisedC = np.polyval(reg,xVal)     \n",
    "        # Substitute revised Continuation Value to Value Matrix\n",
    "        originalC.loc[positivePayoffPaths, i] = revisedC\n",
    "        # Final value for the step is computed as maximum of 'Continuation Value' and 'Option Payoff'\n",
    "        C.iloc[:,i].where(A.iloc[:,i]>originalC.iloc[:,0],A.iloc[:,i])     \n",
    "    # Discounting the value of the option in first step to T0    \n",
    "    C.iloc[:,0] = C.iloc[:,1] * dfactor\n",
    "    # Option Value is the average of the discounted values on T0\n",
    "    OptionVal = C[0].mean(axis = 0)\n",
    "    \n",
    "    return OptionVal\n",
    "\n"
   ]
  },
  {
   "cell_type": "code",
   "execution_count": 79,
   "id": "5b015ada",
   "metadata": {
    "scrolled": false
   },
   "outputs": [
    {
     "name": "stdout",
     "output_type": "stream",
     "text": [
      "8.658691162967619\n"
     ]
    }
   ],
   "source": [
    "S0 = 100\n",
    "rf = 0.01\n",
    "T = 1\n",
    "K = 100\n",
    "vol = 0.20\n",
    "steps = 252\n",
    "sims = 1000\n",
    "\n",
    "np.random.seed(40) \n",
    "\n",
    "# output array of price S at time T loaded to a dataframe\n",
    "CA_MCS = MCS_A(S0, rf, T, K, vol, steps, sims)\n",
    "print(CA_MCS)"
   ]
  },
  {
   "cell_type": "code",
   "execution_count": null,
   "id": "f29db783",
   "metadata": {},
   "outputs": [],
   "source": []
  }
 ],
 "metadata": {
  "kernelspec": {
   "display_name": "Python 3 (ipykernel)",
   "language": "python",
   "name": "python3"
  },
  "language_info": {
   "codemirror_mode": {
    "name": "ipython",
    "version": 3
   },
   "file_extension": ".py",
   "mimetype": "text/x-python",
   "name": "python",
   "nbconvert_exporter": "python",
   "pygments_lexer": "ipython3",
   "version": "3.10.9"
  }
 },
 "nbformat": 4,
 "nbformat_minor": 5
}
